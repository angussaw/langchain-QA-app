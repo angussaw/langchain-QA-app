{
 "cells": [
  {
   "cell_type": "code",
   "execution_count": null,
   "metadata": {},
   "outputs": [],
   "source": [
    "import langchain\n",
    "import chromadb"
   ]
  },
  {
   "cell_type": "code",
   "execution_count": null,
   "metadata": {},
   "outputs": [],
   "source": [
    "from langchain.llms import OpenAI\n",
    "from langchain import PromptTemplate\n",
    "from langchain.chains import LLMChain, SimpleSequentialChain\n",
    "from langchain.document_loaders import PyPDFLoader\n",
    "from langchain.text_splitter import CharacterTextSplitter\n",
    "from pathlib import Path\n",
    "from langchain.chat_models import ChatOpenAI\n",
    "from langchain.chains import QAGenerationChain\n",
    "from langchain.embeddings.openai import OpenAIEmbeddings\n",
    "from langchain.vectorstores import Chroma\n",
    "from langchain.chains import RetrievalQA\n",
    "from langchain.chains import ConversationalRetrievalChain\n",
    "from langchain.chains import ChatVectorDBChain\n",
    "from langchain.evaluation.qa import QAEvalChain\n",
    "from langchain.evaluation.qa import ContextQAEvalChain\n",
    "from langchain.llms import OpenAIChat\n"
   ]
  },
  {
   "cell_type": "code",
   "execution_count": null,
   "metadata": {},
   "outputs": [],
   "source": [
    "# pip install tiktoken\n",
    "# pip install openai"
   ]
  },
  {
   "cell_type": "code",
   "execution_count": null,
   "metadata": {},
   "outputs": [],
   "source": [
    "import os\n",
    "\n",
    "[x for x in os.walk(\"chroma_db\")]"
   ]
  },
  {
   "cell_type": "code",
   "execution_count": null,
   "metadata": {},
   "outputs": [],
   "source": [
    "from glob import glob\n",
    "glob(\"chroma_db/*/\", recursive = True)"
   ]
  },
  {
   "cell_type": "code",
   "execution_count": null,
   "metadata": {},
   "outputs": [],
   "source": [
    "[f.path for f in os.scandir(\"chroma_db\") if f.is_dir()]"
   ]
  },
  {
   "cell_type": "code",
   "execution_count": null,
   "metadata": {},
   "outputs": [],
   "source": [
    "import os\n",
    "\n",
    "persist_directory = \"chroma_db\"\n",
    "collection_name = \"test_PDF_2\"\n",
    "\n",
    "os.path.exists(f\"{persist_directory}/{collection_name}\")"
   ]
  },
  {
   "cell_type": "code",
   "execution_count": null,
   "metadata": {},
   "outputs": [],
   "source": [
    "session_state = []\n",
    "\n",
    "existing_collection_names = [db[\"collection_name\"] for db in session_state]"
   ]
  },
  {
   "cell_type": "code",
   "execution_count": null,
   "metadata": {},
   "outputs": [],
   "source": [
    "existing_collection_names"
   ]
  },
  {
   "cell_type": "code",
   "execution_count": null,
   "metadata": {},
   "outputs": [],
   "source": [
    "# pip install gpt4all\n",
    "\n",
    "from langchain.llms import GPT4All\n",
    "\n",
    "local_path = (\"llm/gpt4all-converted.bin\")\n",
    "\n",
    "llm = GPT4All(model = local_path, n_ctx=2000)"
   ]
  },
  {
   "cell_type": "code",
   "execution_count": null,
   "metadata": {},
   "outputs": [],
   "source": [
    "import langchain\n",
    "\n",
    "langchain.__version__"
   ]
  },
  {
   "cell_type": "code",
   "execution_count": null,
   "metadata": {},
   "outputs": [],
   "source": [
    "question = \"What NFL team won the Super Bowl in the year Justin Bieber was born?\"\n",
    "\n",
    "llm.generate([question])"
   ]
  },
  {
   "cell_type": "code",
   "execution_count": null,
   "metadata": {},
   "outputs": [],
   "source": [
    "from langchain.chains.question_answering import load_qa_chain\n",
    "from langchain.chains import RetrievalQA\n",
    "from langchain.embeddings.huggingface import HuggingFaceEmbeddings\n",
    "from langchain.vectorstores import Chroma\n",
    "\n",
    "collection_name = \"test_PDF_2\"\n",
    "persist_directory = \"chroma_db\"\n",
    "\n",
    "embedding_function = HuggingFaceEmbeddings()\n",
    "\n",
    "database_search = Chroma(collection_name = collection_name,\n",
    "                         persist_directory=f\"{persist_directory}/{collection_name}\", \n",
    "                         embedding_function=embedding_function)\n",
    "\n",
    "chain = RetrievalQA.from_chain_type(llm=llm,\n",
    "                                    chain_type=\"stuff\",\n",
    "                                    retriever = database_search.as_retriever(search_type=\"similarity\", search_kwargs={\"k\":1}),\n",
    "                                    return_source_documents = True)"
   ]
  },
  {
   "cell_type": "code",
   "execution_count": null,
   "metadata": {},
   "outputs": [],
   "source": [
    "query = \"What is the importance of lookahead in model validation?\"\n"
   ]
  },
  {
   "cell_type": "code",
   "execution_count": null,
   "metadata": {},
   "outputs": [],
   "source": [
    "result"
   ]
  },
  {
   "cell_type": "code",
   "execution_count": null,
   "metadata": {},
   "outputs": [],
   "source": [
    "# pip install pygpt4all==1.0.1\n",
    "# pip install pygptj==1.0.10\n",
    "# pip install pyllamacpp==1.0.6\n",
    "# pip install langchain==0.0.142"
   ]
  },
  {
   "cell_type": "code",
   "execution_count": null,
   "metadata": {},
   "outputs": [],
   "source": [
    "# from langchain.llms import BaseLLM\n",
    "\n",
    "# llm = OpenAI(max_tokens=)"
   ]
  },
  {
   "cell_type": "code",
   "execution_count": null,
   "metadata": {},
   "outputs": [],
   "source": [
    "from langchain.agents import initialize_agent, AgentExecutor"
   ]
  },
  {
   "cell_type": "code",
   "execution_count": null,
   "metadata": {},
   "outputs": [],
   "source": [
    "from langchain.llms import GPT4All, OpenAI\n"
   ]
  },
  {
   "cell_type": "code",
   "execution_count": null,
   "metadata": {},
   "outputs": [],
   "source": [
    "from langchain.agents import Tool\n",
    "from langchain.agents import AgentType\n",
    "from langchain.memory import ConversationBufferMemory\n",
    "from langchain import OpenAI\n",
    "from langchain.utilities import SerpAPIWrapper\n",
    "from langchain.agents import initialize_agent\n",
    "from langchain.llms import OpenAIChat"
   ]
  },
  {
   "cell_type": "code",
   "execution_count": null,
   "metadata": {},
   "outputs": [],
   "source": [
    "import openai"
   ]
  },
  {
   "cell_type": "code",
   "execution_count": null,
   "metadata": {},
   "outputs": [],
   "source": [
    "def list_all_models():\n",
    "    model_list = openai.Model.list()['data']\n",
    "    model_ids = [x['id'] for x in model_list]\n",
    "    model_ids.sort()\n",
    "    print(model_ids)\n",
    "\n",
    "list_all_models()"
   ]
  },
  {
   "cell_type": "code",
   "execution_count": null,
   "metadata": {},
   "outputs": [],
   "source": [
    "from langchain import OpenAI"
   ]
  },
  {
   "cell_type": "code",
   "execution_count": null,
   "metadata": {},
   "outputs": [],
   "source": [
    "from langchain.embeddings.huggingface import HuggingFaceEmbeddings\n",
    "\n",
    "embedding_function = HuggingFaceEmbeddings()"
   ]
  },
  {
   "cell_type": "code",
   "execution_count": null,
   "metadata": {},
   "outputs": [],
   "source": [
    "embedding_function.model_name"
   ]
  },
  {
   "cell_type": "code",
   "execution_count": 1,
   "metadata": {},
   "outputs": [],
   "source": [
    "from langchain.document_loaders import PyPDFLoader\n",
    "from langchain.text_splitter import CharacterTextSplitter\n",
    "from langchain.embeddings.huggingface import HuggingFaceEmbeddings\n",
    "from langchain.vectorstores import Chroma\n",
    "from langchain.chat_models import ChatOpenAI\n",
    "from langchain.chains import RetrievalQA\n",
    "from langchain.agents import initialize_agent, Tool, AgentExecutor, AgentType, load_tools\n",
    "from langchain.memory import ConversationBufferMemory\n"
   ]
  },
  {
   "cell_type": "code",
   "execution_count": 2,
   "metadata": {},
   "outputs": [
    {
     "name": "stderr",
     "output_type": "stream",
     "text": [
      "c:\\Users\\angus\\Anaconda3\\envs\\langchain-test\\lib\\site-packages\\tqdm\\auto.py:21: TqdmWarning: IProgress not found. Please update jupyter and ipywidgets. See https://ipywidgets.readthedocs.io/en/stable/user_install.html\n",
      "  from .autonotebook import tqdm as notebook_tqdm\n"
     ]
    }
   ],
   "source": [
    "\n",
    "chunk_size = 200\n",
    "chunk_overlap = 10\n",
    "\n",
    "loader = PyPDFLoader(\"data/messages.pdf\")\n",
    "documents = loader.load()\n",
    "\n",
    "text_splitter = CharacterTextSplitter(chunk_size=chunk_size, chunk_overlap=chunk_overlap,\n",
    "                                      separator = \" \") \n",
    "\n",
    "documents = text_splitter.split_documents(documents)\n",
    "\n",
    "embedding_function = HuggingFaceEmbeddings(model_name = \"sentence-transformers/all-mpnet-base-v2\")\n",
    "\n",
    "database = Chroma.from_documents(documents,\n",
    "                                 embedding = embedding_function)\n",
    "\n",
    "retriever = database.as_retriever(search_type=\"similarity\",search_kwargs={\"k\":3})\n",
    "\n",
    "llm = ChatOpenAI(model = 'gpt-3.5-turbo', temperature = 0.7, openai_api_key = \"\")\n",
    "\n",
    "chain = RetrievalQA.from_chain_type(llm = llm,\n",
    "                                    chain_type = \"stuff\", # chain_type: specifying how the RetrievalQA should pass the chunks into LLM\n",
    "                                    retriever = retriever)\n",
    "\n",
    "\n"
   ]
  },
  {
   "cell_type": "code",
   "execution_count": 3,
   "metadata": {},
   "outputs": [],
   "source": [
    "tools = [Tool(name=\"messages\",\n",
    "                   func=chain.run,\n",
    "                   description=\"A chat history for MyDrumSchool news. Useful for finding out about the latest happenings in MyDrumSchool.\")]"
   ]
  },
  {
   "cell_type": "code",
   "execution_count": 4,
   "metadata": {},
   "outputs": [],
   "source": [
    "memory = ConversationBufferMemory(memory_key=\"chat_history\", return_messages=True)\n",
    "\n",
    "agent = initialize_agent(tools, llm, \n",
    "                        agent=AgentType.CHAT_CONVERSATIONAL_REACT_DESCRIPTION, \n",
    "                        verbose=True, memory=memory, handle_parsing_errors=True)"
   ]
  },
  {
   "cell_type": "code",
   "execution_count": null,
   "metadata": {},
   "outputs": [],
   "source": [
    "import wandb"
   ]
  },
  {
   "cell_type": "code",
   "execution_count": null,
   "metadata": {},
   "outputs": [],
   "source": [
    "wandb.login(key=\"\")"
   ]
  },
  {
   "cell_type": "code",
   "execution_count": 5,
   "metadata": {},
   "outputs": [
    {
     "name": "stderr",
     "output_type": "stream",
     "text": [
      "Failed to detect the name of this notebook, you can set it manually with the WANDB_NOTEBOOK_NAME environment variable to enable code saving.\n",
      "\u001b[34m\u001b[1mwandb\u001b[0m: Currently logged in as: \u001b[33mangussaw39\u001b[0m. Use \u001b[1m`wandb login --relogin`\u001b[0m to force relogin\n"
     ]
    },
    {
     "data": {
      "text/html": [
       "Tracking run with wandb version 0.15.8"
      ],
      "text/plain": [
       "<IPython.core.display.HTML object>"
      ]
     },
     "metadata": {},
     "output_type": "display_data"
    },
    {
     "data": {
      "text/html": [
       "Run data is saved locally in <code>c:\\Users\\angus\\OneDrive\\Desktop\\AISG\\langchain_QA_app\\wandb\\run-20230803_175811-ylk8ibw2</code>"
      ],
      "text/plain": [
       "<IPython.core.display.HTML object>"
      ]
     },
     "metadata": {},
     "output_type": "display_data"
    },
    {
     "data": {
      "text/html": [
       "Syncing run <strong><a href='https://wandb.ai/angussaw39/langchain_qa_app/runs/ylk8ibw2' target=\"_blank\">fragrant-pyramid-2</a></strong> to <a href='https://wandb.ai/angussaw39/langchain_qa_app' target=\"_blank\">Weights & Biases</a> (<a href='https://wandb.me/run' target=\"_blank\">docs</a>)<br/>"
      ],
      "text/plain": [
       "<IPython.core.display.HTML object>"
      ]
     },
     "metadata": {},
     "output_type": "display_data"
    },
    {
     "data": {
      "text/html": [
       " View project at <a href='https://wandb.ai/angussaw39/langchain_qa_app' target=\"_blank\">https://wandb.ai/angussaw39/langchain_qa_app</a>"
      ],
      "text/plain": [
       "<IPython.core.display.HTML object>"
      ]
     },
     "metadata": {},
     "output_type": "display_data"
    },
    {
     "data": {
      "text/html": [
       " View run at <a href='https://wandb.ai/angussaw39/langchain_qa_app/runs/ylk8ibw2' target=\"_blank\">https://wandb.ai/angussaw39/langchain_qa_app/runs/ylk8ibw2</a>"
      ],
      "text/plain": [
       "<IPython.core.display.HTML object>"
      ]
     },
     "metadata": {},
     "output_type": "display_data"
    },
    {
     "data": {
      "text/html": [
       "<button onClick=\"this.nextSibling.style.display='block';this.style.display='none';\">Display W&B run</button><iframe src='https://wandb.ai/angussaw39/langchain_qa_app/runs/ylk8ibw2?jupyter=true' style='border:none;width:100%;height:420px;display:none;'></iframe>"
      ],
      "text/plain": [
       "<wandb.sdk.wandb_run.Run at 0x22a0a4915e0>"
      ]
     },
     "execution_count": 5,
     "metadata": {},
     "output_type": "execute_result"
    }
   ],
   "source": [
    "PROJECT = \"langchain_qa_app_test\"\n",
    "wandb.init(project=PROJECT, job_type=\"generation\")"
   ]
  },
  {
   "cell_type": "code",
   "execution_count": 6,
   "metadata": {},
   "outputs": [],
   "source": [
    "import os\n",
    "os.environ[\"LANGCHAIN_WANDB_TRACING\"] = \"true\""
   ]
  },
  {
   "cell_type": "code",
   "execution_count": 7,
   "metadata": {},
   "outputs": [
    {
     "name": "stdout",
     "output_type": "stream",
     "text": [
      "\n",
      "\n",
      "\u001b[1m> Entering new AgentExecutor chain...\u001b[0m\n",
      "\u001b[32;1m\u001b[1;3m{\n",
      "    \"action\": \"Final Answer\",\n",
      "    \"action_input\": \"Hello! How can I assist you today?\"\n",
      "}\u001b[0m\n",
      "\n",
      "\u001b[1m> Finished chain.\u001b[0m\n"
     ]
    },
    {
     "data": {
      "text/plain": [
       "'Hello! How can I assist you today?'"
      ]
     },
     "execution_count": 7,
     "metadata": {},
     "output_type": "execute_result"
    }
   ],
   "source": [
    "#agent({\"input\":\"Hello!\"})[\"output\"]\n",
    "agent.run(\"Hello!\")"
   ]
  },
  {
   "cell_type": "code",
   "execution_count": 10,
   "metadata": {},
   "outputs": [
    {
     "name": "stderr",
     "output_type": "stream",
     "text": [
      "\u001b[34m\u001b[1mwandb\u001b[0m: Streaming LangChain activity to W&B at https://wandb.ai/angussaw39/langchain_QA_app/runs/epz5hgc4\n",
      "\u001b[34m\u001b[1mwandb\u001b[0m: `WandbTracer` is currently in beta.\n",
      "\u001b[34m\u001b[1mwandb\u001b[0m: Please report any issues to https://github.com/wandb/wandb/issues with the tag `langchain`.\n"
     ]
    },
    {
     "name": "stdout",
     "output_type": "stream",
     "text": [
      "\n",
      "\n",
      "\u001b[1m> Entering new AgentExecutor chain...\u001b[0m\n",
      "\u001b[32;1m\u001b[1;3m{\n",
      "    \"action\": \"Final Answer\",\n",
      "    \"action_input\": \"Hello! How can I assist you today?\"\n",
      "}\u001b[0m\n",
      "\n",
      "\u001b[1m> Finished chain.\u001b[0m\n"
     ]
    },
    {
     "data": {
      "text/plain": [
       "'Hello! How can I assist you today?'"
      ]
     },
     "execution_count": 10,
     "metadata": {},
     "output_type": "execute_result"
    }
   ],
   "source": [
    "output = agent.run(\"Hello!\")"
   ]
  },
  {
   "cell_type": "code",
   "execution_count": 11,
   "metadata": {},
   "outputs": [
    {
     "data": {
      "text/plain": [
       "'Hello! How can I assist you today?'"
      ]
     },
     "execution_count": 11,
     "metadata": {},
     "output_type": "execute_result"
    }
   ],
   "source": [
    "output"
   ]
  },
  {
   "cell_type": "code",
   "execution_count": 8,
   "metadata": {},
   "outputs": [
    {
     "name": "stdout",
     "output_type": "stream",
     "text": [
      "\n",
      "\n",
      "\u001b[1m> Entering new AgentExecutor chain...\u001b[0m\n",
      "\u001b[32;1m\u001b[1;3mCould not parse LLM output: To sign up for Rockschool exams as a student of MyDrumSchool, you can follow these steps:\n",
      "\n",
      "1. Visit the MyDrumSchool website and navigate to the Rockschool exams section.\n",
      "2. Look for information on exam dates, fees, and registration deadlines.\n",
      "3. Fill out the registration form with your personal details and select the Rockschool exam level you wish to take.\n",
      "4. Pay the required exam fees through the designated payment method.\n",
      "5. Once your registration is processed, you will receive confirmation of your exam booking along with further instructions.\n",
      "\n",
      "If you need more specific information or assistance with the sign-up process, I recommend reaching out to the MyDrumSchool team directly for guidance. They will be able to provide you with the most up-to-date and accurate information regarding Rockschool exams and the sign-up procedure.\u001b[0m\n",
      "Observation: Invalid or incomplete response\n",
      "Thought:\u001b[32;1m\u001b[1;3m{\n",
      "    \"action\": \"Final Answer\",\n",
      "    \"action_input\": \"To sign up for Rockschool exams as a student of MyDrumSchool, you can follow these steps:\\n\\n1. Visit the MyDrumSchool website and navigate to the Rockschool exams section.\\n2. Look for information on exam dates, fees, and registration deadlines.\\n3. Fill out the registration form with your personal details and select the Rockschool exam level you wish to take.\\n4. Pay the required exam fees through the designated payment method.\\n5. Once your registration is processed, you will receive confirmation of your exam booking along with further instructions.\\n\\nIf you need more specific information or assistance with the sign-up process, I recommend reaching out to the MyDrumSchool team directly for guidance. They will be able to provide you with the most up-to-date and accurate information regarding Rockschool exams and the sign-up procedure.\"\n",
      "}\u001b[0m\n",
      "\n",
      "\u001b[1m> Finished chain.\u001b[0m\n"
     ]
    },
    {
     "data": {
      "text/plain": [
       "'To sign up for Rockschool exams as a student of MyDrumSchool, you can follow these steps:\\n\\n1. Visit the MyDrumSchool website and navigate to the Rockschool exams section.\\n2. Look for information on exam dates, fees, and registration deadlines.\\n3. Fill out the registration form with your personal details and select the Rockschool exam level you wish to take.\\n4. Pay the required exam fees through the designated payment method.\\n5. Once your registration is processed, you will receive confirmation of your exam booking along with further instructions.\\n\\nIf you need more specific information or assistance with the sign-up process, I recommend reaching out to the MyDrumSchool team directly for guidance. They will be able to provide you with the most up-to-date and accurate information regarding Rockschool exams and the sign-up procedure.'"
      ]
     },
     "execution_count": 8,
     "metadata": {},
     "output_type": "execute_result"
    }
   ],
   "source": [
    "#agent({\"input\":\"As a student of MyDrumSchool, how can I sign up for Rockschool exams?\"})[\"output\"]\n",
    "agent.run(\"As a student of MyDrumSchool, how can I sign up for Rockschool exams?\")\n"
   ]
  },
  {
   "cell_type": "code",
   "execution_count": 12,
   "metadata": {},
   "outputs": [],
   "source": [
    "wandb.finish()"
   ]
  },
  {
   "cell_type": "code",
   "execution_count": 22,
   "metadata": {},
   "outputs": [
    {
     "name": "stdout",
     "output_type": "stream",
     "text": [
      "\n",
      "\n",
      "\u001b[1m> Entering new AgentExecutor chain...\u001b[0m\n",
      "\u001b[32;1m\u001b[1;3m{\n",
      "    \"action\": \"Search\",\n",
      "    \"action_input\": \"data scientist roles in Singapore\"\n",
      "}\u001b[0m\n",
      "Observation: \u001b[36;1m\u001b[1;3mhttps://sg.linkedin.com/jobs/data-scientist-jobs\u001b[0m\n",
      "Thought:\u001b[32;1m\u001b[1;3m{\n",
      "    \"action\": \"Final Answer\",\n",
      "    \"action_input\": \"Based on the technical skills and years of experience, two suitable data scientist roles in Singapore for Angus could be 'Data Scientist' and 'Senior Data Scientist'.\"\n",
      "}\u001b[0m\n",
      "\n",
      "\u001b[1m> Finished chain.\u001b[0m\n"
     ]
    },
    {
     "data": {
      "text/plain": [
       "\"Based on the technical skills and years of experience, two suitable data scientist roles in Singapore for Angus could be 'Data Scientist' and 'Senior Data Scientist'.\""
      ]
     },
     "execution_count": 22,
     "metadata": {},
     "output_type": "execute_result"
    }
   ],
   "source": [
    "agent({\"input\":\"Based on the technical skills and years of experience, find two suitable data scientist roles in Singapore for Angus\"})[\"output\"]"
   ]
  },
  {
   "cell_type": "code",
   "execution_count": 37,
   "metadata": {},
   "outputs": [
    {
     "data": {
      "text/plain": [
       "[(Document(page_content='A short workshop and updates on the Rockschool examinations.\\nThere will be live performances by our Educators.\\nMore details will be released in your MDS Room App ������\\n@mydrumschool\\n16 June 2020\\nMy', metadata={'source': 'data/messages.pdf', 'page': 31}),\n",
       "  0.6857510209083557),\n",
       " (Document(page_content='18.8 KB�Rockschool Exams Start tomorrow!\\nAll the best to the candidates for Rockschool Drumkit Exams Tour A\\n2022!\\nPlease ensure to arrive 15 minutes before your stipulated exam time.\\nExam Venue:\\nRS', metadata={'source': 'data/messages.pdf', 'page': 69}),\n",
       "  0.7530626654624939),\n",
       " (Document(page_content='Rockschool Drumkit Exams Tour B\\n2022!\\nPlease ensure to arrive 15 minutes before your stipulated exam time.\\nExam Venue:\\nRS Event Center\\nBlk 51 Old Airport Road\\n#02-56\\nSingapore 390051\\nCompulsory items', metadata={'source': 'data/messages.pdf', 'page': 74}),\n",
       "  0.7836322784423828),\n",
       " (Document(page_content='Exams next week.\\n@mydrumschool\\nhttps://youtu.be/Vi1O7E5PmBI\\n16 November 2020\\nMy Drum School News\\nCommon questions for the upcoming Rockschool Exams:\\n1) Where is the exam venue?\\nRS Event Center\\n51 Old', metadata={'source': 'data/messages.pdf', 'page': 42}),\n",
       "  0.7931861877441406)]"
      ]
     },
     "execution_count": 37,
     "metadata": {},
     "output_type": "execute_result"
    }
   ],
   "source": [
    "query = \"As a student of MyDrumSchool, how can I sign up for Rockschool exams?\"\n",
    "\n",
    "similar_sentences = database.similarity_search_with_score(query = query,\n",
    "                                                          k = 4)\n",
    "\n",
    "similar_sentences"
   ]
  },
  {
   "cell_type": "code",
   "execution_count": 38,
   "metadata": {},
   "outputs": [
    {
     "data": {
      "text/plain": [
       "\"To sign up for Rockschool exams as a student of MyDrumSchool, you can follow these steps:\\n\\n1. Check for any announcements or updates on Rockschool examinations in your MDS Room App or any other communication channels from MyDrumSchool.\\n\\n2. Look for information regarding the upcoming Rockschool exams, including the dates, venues, and any specific requirements or instructions.\\n\\n3. If you are interested in taking the exams, ensure that you meet the eligibility criteria and have prepared the necessary repertoire and skills.\\n\\n4. Contact MyDrumSchool or the designated exam coordinator to express your interest in signing up for the Rockschool exams. They will provide you with the necessary registration forms and guide you through the registration process.\\n\\n5. Fill out the registration forms accurately and submit them along with any required documents or fees within the specified deadline.\\n\\n6. Once your registration is confirmed, you will receive further instructions regarding the exam schedule, venue, and any additional preparations or requirements.\\n\\nIt's important to stay updated with the announcements and instructions provided by MyDrumSchool to ensure a smooth registration process for Rockschool exams.\""
      ]
     },
     "execution_count": 38,
     "metadata": {},
     "output_type": "execute_result"
    }
   ],
   "source": [
    "chain.run({\"query\":query})"
   ]
  },
  {
   "cell_type": "code",
   "execution_count": 35,
   "metadata": {},
   "outputs": [
    {
     "data": {
      "text/plain": [
       "[(Document(page_content='now use your Lesson Credits to convert them to Studio Rental\\nCredits (SRC). Use your SRC to make a rental booking with us. Available\\nstudios of up to the next 7 days will be displayed.\\nHere is a video', metadata={'source': 'data/messages.pdf', 'page': 92}),\n",
       "  0.5762842893600464),\n",
       " (Document(page_content='We will be opening a total of 4 fully-fitted drum studios with an\\nadditional 200 student intake. We have also hired 2 more full-time staff\\nto cater to the overflow of demand.\\nStudios will feature', metadata={'source': 'data/messages.pdf', 'page': 3}),\n",
       "  1.0864653587341309),\n",
       " (Document(page_content='for the inconvenience caused.\\n12 March 2023\\nMy Drum School News\\n��� ���� Introducing Studio Rental ��� ����\\nWe will be piloting Studio Rental Booking through the MDS Room App.My Drum School', metadata={'source': 'data/messages.pdf', 'page': 91}),\n",
       "  1.1508418321609497)]"
      ]
     },
     "execution_count": 35,
     "metadata": {},
     "output_type": "execute_result"
    }
   ],
   "source": [
    "query = \"How can I rent a studio for practice?\"\n",
    "\n",
    "similar_sentences = database.similarity_search_with_score(query = query,\n",
    "                                                          k = 3)\n",
    "\n",
    "similar_sentences"
   ]
  },
  {
   "cell_type": "code",
   "execution_count": 36,
   "metadata": {},
   "outputs": [
    {
     "data": {
      "text/plain": [
       "'To rent a studio for practice, you can follow these steps:\\n\\n1. Make sure you have enough Lesson Credits in your account.\\n2. Convert your Lesson Credits to Studio Rental Credits (SRC) through the MDS Room App.\\n3. Use your SRC to make a rental booking for a studio.\\n4. The available studios for the next 7 days will be displayed on the app.\\n5. Select a studio and book it for your desired date and time.\\n6. Confirm your booking and make the necessary payment, if required.\\n7. Arrive at the studio on the scheduled date and time for your practice session.\\n\\nPlease note that the availability of studios may vary and it is advisable to book in advance to secure your preferred time slot.'"
      ]
     },
     "execution_count": 36,
     "metadata": {},
     "output_type": "execute_result"
    }
   ],
   "source": [
    "chain.run({\"query\":query})"
   ]
  },
  {
   "cell_type": "code",
   "execution_count": null,
   "metadata": {},
   "outputs": [],
   "source": [
    "import pandas as pd\n",
    "\n",
    "texts = []\n",
    "scores = []\n",
    "\n",
    "\n",
    "for document in similar_sentences:\n",
    "    text = document[0].page_content\n",
    "    texts.append(text)\n",
    "    score = document[1]\n",
    "    scores.append(score)\n",
    "\n",
    "similar_sentences_df = pd.DataFrame()\n",
    "similar_sentences_df[\"text\"] = texts\n",
    "similar_sentences_df[\"score\"] = scores\n",
    "\n"
   ]
  },
  {
   "cell_type": "code",
   "execution_count": null,
   "metadata": {},
   "outputs": [],
   "source": [
    "pd.set_option('display.max_colwidth', None)\n",
    "similar_sentences_df"
   ]
  },
  {
   "cell_type": "code",
   "execution_count": null,
   "metadata": {},
   "outputs": [],
   "source": [
    "chain.combine_documents_chain.llm_chain.prompt.messages[0].prompt.template"
   ]
  },
  {
   "cell_type": "code",
   "execution_count": null,
   "metadata": {},
   "outputs": [],
   "source": [
    "chain.combine_documents_chain.llm_chain.prompt.messages[1].prompt.template"
   ]
  },
  {
   "cell_type": "code",
   "execution_count": null,
   "metadata": {},
   "outputs": [],
   "source": [
    "len(documents)"
   ]
  },
  {
   "cell_type": "code",
   "execution_count": null,
   "metadata": {},
   "outputs": [],
   "source": [
    "documents"
   ]
  }
 ],
 "metadata": {
  "kernelspec": {
   "display_name": "langchain-test",
   "language": "python",
   "name": "python3"
  },
  "language_info": {
   "codemirror_mode": {
    "name": "ipython",
    "version": 3
   },
   "file_extension": ".py",
   "mimetype": "text/x-python",
   "name": "python",
   "nbconvert_exporter": "python",
   "pygments_lexer": "ipython3",
   "version": "3.9.16"
  },
  "orig_nbformat": 4
 },
 "nbformat": 4,
 "nbformat_minor": 2
}
